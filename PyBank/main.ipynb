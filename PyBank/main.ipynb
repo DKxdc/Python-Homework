{
 "cells": [
  {
   "cell_type": "code",
   "execution_count": 150,
   "id": "a0f556dc-12bb-420b-b3c9-a7b0b7fef03f",
   "metadata": {},
   "outputs": [],
   "source": [
    "from pathlib import Path\n",
    "import csv"
   ]
  },
  {
   "cell_type": "code",
   "execution_count": 151,
   "id": "7f11f523-bc04-49a2-b677-e41a3f62b75e",
   "metadata": {},
   "outputs": [],
   "source": [
    "#set path for file\n",
    "csvpath = Path('./budget_data.csv')\n"
   ]
  },
  {
   "cell_type": "code",
   "execution_count": 152,
   "id": "1da3576f-dbe2-4570-945f-547ff52922af",
   "metadata": {},
   "outputs": [],
   "source": [
    "all_months = []\n",
    "all_pnl = []\n",
    "change = []\n",
    "max_increase_month = \"\"\n",
    "min_increase_month = \"\"\n",
    "max_gains = 0\n",
    "min_gains = 0"
   ]
  },
  {
   "cell_type": "code",
   "execution_count": 153,
   "id": "b5f50a34-87e9-4b8d-81c0-e2be0bcce6db",
   "metadata": {},
   "outputs": [
    {
     "name": "stdout",
     "output_type": "stream",
     "text": [
      "Total Months: 86\n",
      "Total Profit: $38382578\n",
      "Average Change: $-2315.1176470588234\n",
      "Best Profit Month: Feb-12 $1926159\n",
      "Worst Profit Month: Sep-13 $-2196167\n"
     ]
    }
   ],
   "source": [
    "line_num = 0\n",
    "\n",
    "with open(csvpath, 'r') as csvfile:\n",
    "    \n",
    "    csvreader = csv.reader(csvfile, delimiter = ',')\n",
    "    \n",
    "    header = next(csvreader)\n",
    "    line_num += 1\n",
    "    \n",
    "    for row in csvreader:\n",
    "        all_months.append(row[0])\n",
    "        all_pnl.append(int(row[1]))\n",
    "        \n",
    "        #finding months for max and min increase in profits.\n",
    "        \n",
    "        if int(row[1]) > max_gains:\n",
    "            max_increase_month = (row[0])\n",
    "            max_gains = int(row[1])\n",
    "        elif int(row[1]) < min_gains:\n",
    "            min_increase_month = (row[0])\n",
    "            min_gains = int(row[1])  \n",
    "        \n",
    "          \n",
    "        \n",
    "# total months and total pnl\n",
    "\n",
    "total_months = len(all_months)\n",
    "total_pnl = sum(all_pnl)\n",
    "\n",
    "\n",
    "for x in range(1, len(all_pnl)):\n",
    "        \n",
    "        # Change of profit/loss between each month\n",
    "        change.append(all_pnl[x] - all_pnl[x-1])\n",
    "        \n",
    "        # Average change of profit/loss\n",
    "        avg_change = sum(change)/len(change)\n",
    "        \n",
    "        #finding max & min profit month & amount.\n",
    "        \n",
    "        max_increase = max(change)\n",
    "        \n",
    "        min_increase = min(change)\n",
    "      \n",
    "        \n",
    "        \n",
    "# print all financial analytics\n",
    "\n",
    "print(\"Total Months: \" + str(total_months))\n",
    "print(\"Total Profit: $\" + str(total_pnl))\n",
    "print(\"Average Change: $\" + str(avg_change))\n",
    "print(\"Best Profit Month: \" + str(max_increase_month) + \" \" + \"$\" + str(max_increase))\n",
    "print(\"Worst Profit Month: \" + str(min_increase_month) + \" \" + \"$\" + str(min_increase))       \n",
    "        \n",
    "        \n",
    "\n",
    "               "
   ]
  },
  {
   "cell_type": "code",
   "execution_count": 154,
   "id": "c0389037-b018-4c64-9a64-8a3a87427048",
   "metadata": {},
   "outputs": [],
   "source": [
    "# Set output and produce txt file.\n",
    "\n",
    "output_path = Path(\"Financial Analysis.txt\")\n",
    "\n",
    "\n",
    "with open(output_path, 'w') as file:\n",
    "    file.write(\"Financial Analysis\")\n",
    "    file.write(\"\\n\")\n",
    "    file.write(\"----------------------------\")\n",
    "    file.write(\"\\n\")\n",
    "    file.write(\"Total Months: \" + str(total_months))\n",
    "    file.write(\"\\n\")\n",
    "    file.write(\"Total Profit: $\" + str(total_pnl))\n",
    "    file.write(\"\\n\")\n",
    "    file.write(\"Average Change: $\" + str(round(avg_change,2)))\n",
    "    file.write(\"\\n\")\n",
    "    file.write(\"Best Profit Month: \" + str(max_increase_month) + \" \" + \"$\" + str(max_increase))\n",
    "    file.write(\"\\n\")\n",
    "    file.write(\"Worst Profit Month: \" + str(min_increase_month) + \" \" + \"$\" + str(min_increase))\n"
   ]
  }
 ],
 "metadata": {
  "kernelspec": {
   "display_name": "dev",
   "language": "python",
   "name": "dev"
  },
  "language_info": {
   "codemirror_mode": {
    "name": "ipython",
    "version": 3
   },
   "file_extension": ".py",
   "mimetype": "text/x-python",
   "name": "python",
   "nbconvert_exporter": "python",
   "pygments_lexer": "ipython3",
   "version": "3.7.13"
  }
 },
 "nbformat": 4,
 "nbformat_minor": 5
}
